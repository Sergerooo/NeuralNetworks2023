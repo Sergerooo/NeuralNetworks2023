{
 "cells": [
  {
   "cell_type": "markdown",
   "metadata": {},
   "source": [
    "https://github.com/yunjey/pytorch-tutorial/blob/master/tutorials/01-basics/logistic_regression/main.py#L33-L34"
   ]
  },
  {
   "cell_type": "code",
   "execution_count": 3,
   "metadata": {
    "ExecuteTime": {
     "end_time": "2023-10-06T11:13:37.421317007Z",
     "start_time": "2023-10-06T11:13:30.211408197Z"
    }
   },
   "outputs": [],
   "source": [
    "import torch\n",
    "import torch.nn as nn\n",
    "import torchvision\n",
    "import torchvision.transforms as transforms"
   ]
  },
  {
   "cell_type": "code",
   "execution_count": 4,
   "metadata": {
    "ExecuteTime": {
     "end_time": "2023-10-06T11:13:37.610219197Z",
     "start_time": "2023-10-06T11:13:30.276251323Z"
    }
   },
   "outputs": [],
   "source": [
    "from matplotlib import pyplot as plt"
   ]
  },
  {
   "cell_type": "code",
   "execution_count": 5,
   "metadata": {
    "ExecuteTime": {
     "end_time": "2023-10-06T11:13:37.684206073Z",
     "start_time": "2023-10-06T11:13:30.311869236Z"
    }
   },
   "outputs": [],
   "source": [
    "# Hyper-parameters \n",
    "input_size = 28 * 28    # 784\n",
    "num_classes = 10\n",
    "num_epochs = 5\n",
    "batch_size = 100\n",
    "learning_rate = 0.001"
   ]
  },
  {
   "cell_type": "markdown",
   "metadata": {},
   "source": [
    "# 1 Этап - Данные"
   ]
  },
  {
   "cell_type": "code",
   "execution_count": 6,
   "metadata": {
    "ExecuteTime": {
     "end_time": "2023-10-06T11:14:49.056062774Z",
     "start_time": "2023-10-06T11:13:30.346044206Z"
    }
   },
   "outputs": [
    {
     "name": "stdout",
     "output_type": "stream",
     "text": [
      "Downloading http://yann.lecun.com/exdb/mnist/train-images-idx3-ubyte.gz\n",
      "Downloading http://yann.lecun.com/exdb/mnist/train-images-idx3-ubyte.gz to ../../data/MNIST/raw/train-images-idx3-ubyte.gz\n"
     ]
    },
    {
     "name": "stderr",
     "output_type": "stream",
     "text": [
      "100.0%\n"
     ]
    },
    {
     "name": "stdout",
     "output_type": "stream",
     "text": [
      "Extracting ../../data/MNIST/raw/train-images-idx3-ubyte.gz to ../../data/MNIST/raw\n",
      "\n",
      "Downloading http://yann.lecun.com/exdb/mnist/train-labels-idx1-ubyte.gz\n",
      "Downloading http://yann.lecun.com/exdb/mnist/train-labels-idx1-ubyte.gz to ../../data/MNIST/raw/train-labels-idx1-ubyte.gz\n"
     ]
    },
    {
     "name": "stderr",
     "output_type": "stream",
     "text": [
      "100.0%\n"
     ]
    },
    {
     "name": "stdout",
     "output_type": "stream",
     "text": [
      "Extracting ../../data/MNIST/raw/train-labels-idx1-ubyte.gz to ../../data/MNIST/raw\n",
      "\n",
      "Downloading http://yann.lecun.com/exdb/mnist/t10k-images-idx3-ubyte.gz\n",
      "Downloading http://yann.lecun.com/exdb/mnist/t10k-images-idx3-ubyte.gz to ../../data/MNIST/raw/t10k-images-idx3-ubyte.gz\n"
     ]
    },
    {
     "name": "stderr",
     "output_type": "stream",
     "text": [
      "100.0%\n"
     ]
    },
    {
     "name": "stdout",
     "output_type": "stream",
     "text": [
      "Extracting ../../data/MNIST/raw/t10k-images-idx3-ubyte.gz to ../../data/MNIST/raw\n",
      "\n",
      "Downloading http://yann.lecun.com/exdb/mnist/t10k-labels-idx1-ubyte.gz\n",
      "Downloading http://yann.lecun.com/exdb/mnist/t10k-labels-idx1-ubyte.gz to ../../data/MNIST/raw/t10k-labels-idx1-ubyte.gz\n"
     ]
    },
    {
     "name": "stderr",
     "output_type": "stream",
     "text": [
      "100.0%"
     ]
    },
    {
     "name": "stdout",
     "output_type": "stream",
     "text": [
      "Extracting ../../data/MNIST/raw/t10k-labels-idx1-ubyte.gz to ../../data/MNIST/raw\n"
     ]
    },
    {
     "name": "stderr",
     "output_type": "stream",
     "text": [
      "\n"
     ]
    }
   ],
   "source": [
    "# MNIST dataset (images and labels)\n",
    "train_dataset = torchvision.datasets.MNIST(root='../../data', \n",
    "                                           train=True, \n",
    "                                           transform=transforms.ToTensor(),\n",
    "                                           download=True)\n",
    "\n",
    "test_dataset = torchvision.datasets.MNIST(root='../../data', \n",
    "                                          train=False, \n",
    "                                          transform=transforms.ToTensor())\n",
    "\n",
    "# Data loader (input pipeline)\n",
    "train_loader = torch.utils.data.DataLoader(dataset=train_dataset, \n",
    "                                           batch_size=batch_size, \n",
    "                                           shuffle=True)\n",
    "\n",
    "test_loader = torch.utils.data.DataLoader(dataset=test_dataset, \n",
    "                                          batch_size=batch_size, \n",
    "                                          shuffle=False)"
   ]
  },
  {
   "cell_type": "code",
   "execution_count": 7,
   "metadata": {
    "ExecuteTime": {
     "end_time": "2023-10-06T11:14:49.127791440Z",
     "start_time": "2023-10-06T11:14:48.859731044Z"
    }
   },
   "outputs": [
    {
     "data": {
      "text/plain": "60000"
     },
     "execution_count": 7,
     "metadata": {},
     "output_type": "execute_result"
    }
   ],
   "source": [
    "len(train_dataset)"
   ]
  },
  {
   "cell_type": "code",
   "execution_count": 8,
   "metadata": {
    "ExecuteTime": {
     "end_time": "2023-10-06T11:14:49.136293518Z",
     "start_time": "2023-10-06T11:14:48.875645731Z"
    }
   },
   "outputs": [],
   "source": [
    "x, y = train_dataset[0]"
   ]
  },
  {
   "cell_type": "code",
   "execution_count": 9,
   "metadata": {
    "ExecuteTime": {
     "end_time": "2023-10-06T11:14:49.231270590Z",
     "start_time": "2023-10-06T11:14:48.918431657Z"
    }
   },
   "outputs": [
    {
     "data": {
      "text/plain": "torch.Size([1, 28, 28])"
     },
     "execution_count": 9,
     "metadata": {},
     "output_type": "execute_result"
    }
   ],
   "source": [
    "x.shape"
   ]
  },
  {
   "cell_type": "code",
   "execution_count": 10,
   "metadata": {
    "ExecuteTime": {
     "end_time": "2023-10-06T11:14:49.543950861Z",
     "start_time": "2023-10-06T11:14:48.919258124Z"
    }
   },
   "outputs": [
    {
     "data": {
      "text/plain": "5"
     },
     "execution_count": 10,
     "metadata": {},
     "output_type": "execute_result"
    }
   ],
   "source": [
    "y"
   ]
  },
  {
   "cell_type": "code",
   "execution_count": 11,
   "metadata": {
    "ExecuteTime": {
     "end_time": "2023-10-06T11:14:49.642925374Z",
     "start_time": "2023-10-06T11:14:48.962296157Z"
    }
   },
   "outputs": [
    {
     "data": {
      "text/plain": "torch.Size([784])"
     },
     "execution_count": 11,
     "metadata": {},
     "output_type": "execute_result"
    }
   ],
   "source": [
    "x.flatten().shape"
   ]
  },
  {
   "cell_type": "code",
   "execution_count": 12,
   "metadata": {
    "ExecuteTime": {
     "end_time": "2023-10-06T11:14:49.644342487Z",
     "start_time": "2023-10-06T11:14:48.962879386Z"
    }
   },
   "outputs": [
    {
     "data": {
      "text/plain": "torch.Size([784])"
     },
     "execution_count": 12,
     "metadata": {},
     "output_type": "execute_result"
    }
   ],
   "source": [
    "x.reshape(-1).shape"
   ]
  },
  {
   "cell_type": "code",
   "execution_count": 13,
   "metadata": {
    "ExecuteTime": {
     "end_time": "2023-10-06T11:14:49.645480672Z",
     "start_time": "2023-10-06T11:14:49.006200276Z"
    }
   },
   "outputs": [
    {
     "data": {
      "text/plain": "torch.Size([28, 28])"
     },
     "execution_count": 13,
     "metadata": {},
     "output_type": "execute_result"
    }
   ],
   "source": [
    "x.squeeze().shape"
   ]
  },
  {
   "cell_type": "code",
   "execution_count": 14,
   "metadata": {
    "ExecuteTime": {
     "end_time": "2023-10-06T11:14:49.704965197Z",
     "start_time": "2023-10-06T11:14:49.006841484Z"
    }
   },
   "outputs": [
    {
     "data": {
      "text/plain": "5"
     },
     "execution_count": 14,
     "metadata": {},
     "output_type": "execute_result"
    }
   ],
   "source": [
    "y"
   ]
  },
  {
   "cell_type": "code",
   "execution_count": 15,
   "metadata": {
    "ExecuteTime": {
     "end_time": "2023-10-06T11:14:49.911723823Z",
     "start_time": "2023-10-06T11:14:49.007246498Z"
    }
   },
   "outputs": [
    {
     "data": {
      "text/plain": "<matplotlib.image.AxesImage at 0x7f646c813ca0>"
     },
     "execution_count": 15,
     "metadata": {},
     "output_type": "execute_result"
    },
    {
     "data": {
      "text/plain": "<Figure size 640x480 with 1 Axes>",
      "image/png": "[encoded data removed]"
     },
     "metadata": {},
     "output_type": "display_data"
    }
   ],
   "source": [
    "plt.imshow(x.squeeze(), cmap='gray')"
   ]
  },
  {
   "cell_type": "code",
   "execution_count": 15,
   "metadata": {
    "ExecuteTime": {
     "end_time": "2023-10-06T11:14:49.941169575Z",
     "start_time": "2023-10-06T11:14:49.518772108Z"
    }
   },
   "outputs": [],
   "source": []
  },
  {
   "cell_type": "code",
   "execution_count": 16,
   "metadata": {
    "ExecuteTime": {
     "end_time": "2023-10-06T11:14:50.209739628Z",
     "start_time": "2023-10-06T11:14:49.529592892Z"
    }
   },
   "outputs": [
    {
     "name": "stdout",
     "output_type": "stream",
     "text": [
      "torch.Size([100, 1, 28, 28])\n",
      "torch.Size([100])\n"
     ]
    }
   ],
   "source": [
    "for images, labels in train_loader:\n",
    "    print(images.shape)\n",
    "    print(labels.shape)\n",
    "    break"
   ]
  },
  {
   "cell_type": "markdown",
   "metadata": {},
   "source": [
    "# 2 этап - Нейронная сеть"
   ]
  },
  {
   "cell_type": "code",
   "execution_count": 17,
   "metadata": {
    "ExecuteTime": {
     "end_time": "2023-10-06T11:14:50.274968287Z",
     "start_time": "2023-10-06T11:14:49.614425668Z"
    }
   },
   "outputs": [],
   "source": [
    "# Logistic regression model\n",
    "model = nn.Linear(input_size, num_classes)"
   ]
  },
  {
   "cell_type": "code",
   "execution_count": 18,
   "metadata": {
    "ExecuteTime": {
     "end_time": "2023-10-06T11:14:50.302016479Z",
     "start_time": "2023-10-06T11:14:49.615296718Z"
    }
   },
   "outputs": [
    {
     "data": {
      "text/plain": "Linear(in_features=784, out_features=10, bias=True)"
     },
     "execution_count": 18,
     "metadata": {},
     "output_type": "execute_result"
    }
   ],
   "source": [
    "model"
   ]
  },
  {
   "cell_type": "code",
   "execution_count": 19,
   "metadata": {
    "ExecuteTime": {
     "end_time": "2023-10-06T11:14:50.329897956Z",
     "start_time": "2023-10-06T11:14:49.615838187Z"
    }
   },
   "outputs": [
    {
     "name": "stdout",
     "output_type": "stream",
     "text": [
      "Parameter containing:\n",
      "tensor([[ 2.9733e-02, -1.4409e-02,  3.7584e-05,  ...,  3.3687e-02,\n",
      "         -2.7200e-02,  7.7713e-03],\n",
      "        [ 1.6667e-02,  3.3395e-02,  6.6620e-03,  ..., -2.1240e-02,\n",
      "          1.9571e-02, -1.3116e-02],\n",
      "        [ 2.0366e-02, -3.0789e-02, -1.2969e-02,  ..., -1.6900e-03,\n",
      "          3.2953e-02,  4.9052e-03],\n",
      "        ...,\n",
      "        [ 3.2492e-02,  1.7874e-02,  3.1083e-02,  ...,  4.5087e-03,\n",
      "         -1.3555e-02,  4.9333e-03],\n",
      "        [-2.3796e-02, -2.6009e-03,  1.3224e-02,  ...,  3.4011e-02,\n",
      "          1.2087e-02, -3.0064e-02],\n",
      "        [ 3.5299e-02, -1.4260e-02,  1.2264e-02,  ..., -1.2365e-02,\n",
      "          1.1203e-02, -1.6609e-02]], requires_grad=True)\n",
      "Parameter containing:\n",
      "tensor([-0.0013,  0.0190, -0.0298,  0.0249,  0.0230,  0.0073, -0.0313,  0.0293,\n",
      "        -0.0206,  0.0182], requires_grad=True)\n"
     ]
    }
   ],
   "source": [
    "for p in model.parameters():\n",
    "    print(p)"
   ]
  },
  {
   "cell_type": "code",
   "execution_count": 20,
   "metadata": {
    "ExecuteTime": {
     "end_time": "2023-10-06T11:14:50.332632861Z",
     "start_time": "2023-10-06T11:14:49.616415569Z"
    }
   },
   "outputs": [
    {
     "data": {
      "text/plain": "tensor([[ 2.9733e-02, -1.4409e-02,  3.7584e-05,  ...,  3.3687e-02,\n         -2.7200e-02,  7.7713e-03],\n        [ 1.6667e-02,  3.3395e-02,  6.6620e-03,  ..., -2.1240e-02,\n          1.9571e-02, -1.3116e-02],\n        [ 2.0366e-02, -3.0789e-02, -1.2969e-02,  ..., -1.6900e-03,\n          3.2953e-02,  4.9052e-03],\n        ...,\n        [ 3.2492e-02,  1.7874e-02,  3.1083e-02,  ...,  4.5087e-03,\n         -1.3555e-02,  4.9333e-03],\n        [-2.3796e-02, -2.6009e-03,  1.3224e-02,  ...,  3.4011e-02,\n          1.2087e-02, -3.0064e-02],\n        [ 3.5299e-02, -1.4260e-02,  1.2264e-02,  ..., -1.2365e-02,\n          1.1203e-02, -1.6609e-02]])"
     },
     "execution_count": 20,
     "metadata": {},
     "output_type": "execute_result"
    }
   ],
   "source": [
    "model.weight.data"
   ]
  },
  {
   "cell_type": "code",
   "execution_count": 21,
   "metadata": {
    "ExecuteTime": {
     "end_time": "2023-10-06T11:14:50.360556374Z",
     "start_time": "2023-10-06T11:14:49.662813144Z"
    }
   },
   "outputs": [
    {
     "data": {
      "text/plain": "tensor([-0.0013,  0.0190, -0.0298,  0.0249,  0.0230,  0.0073, -0.0313,  0.0293,\n        -0.0206,  0.0182])"
     },
     "execution_count": 21,
     "metadata": {},
     "output_type": "execute_result"
    }
   ],
   "source": [
    "model.bias.data"
   ]
  },
  {
   "cell_type": "code",
   "execution_count": 22,
   "metadata": {
    "ExecuteTime": {
     "end_time": "2023-10-06T11:14:50.363340984Z",
     "start_time": "2023-10-06T11:14:49.663230186Z"
    }
   },
   "outputs": [
    {
     "data": {
      "text/plain": "tensor([-0.7304, -0.0399,  1.1530,  0.2436,  0.1724, -0.7597,  0.3548, -0.4777,\n        -0.1566, -1.0661], grad_fn=<AddBackward0>)"
     },
     "execution_count": 22,
     "metadata": {},
     "output_type": "execute_result"
    }
   ],
   "source": [
    "x = torch.randn(784)\n",
    "model(x)"
   ]
  },
  {
   "cell_type": "code",
   "execution_count": 23,
   "metadata": {
    "ExecuteTime": {
     "end_time": "2023-10-06T11:14:50.385695278Z",
     "start_time": "2023-10-06T11:14:49.663606693Z"
    }
   },
   "outputs": [
    {
     "data": {
      "text/plain": "tensor([-0.0473, -0.0315, -0.0604, -0.1371,  0.0490,  0.0432, -0.3357, -0.0908,\n         0.1679,  0.2371], grad_fn=<AddBackward0>)"
     },
     "execution_count": 23,
     "metadata": {},
     "output_type": "execute_result"
    }
   ],
   "source": [
    "x, y = train_dataset[0]\n",
    "model(x.flatten())"
   ]
  },
  {
   "cell_type": "markdown",
   "metadata": {},
   "source": [
    "# 3 этап - Оптимизация и лосс-функция"
   ]
  },
  {
   "cell_type": "code",
   "execution_count": 24,
   "metadata": {
    "ExecuteTime": {
     "end_time": "2023-10-06T11:14:50.386615056Z",
     "start_time": "2023-10-06T11:14:49.669910796Z"
    }
   },
   "outputs": [],
   "source": [
    "# Loss and optimizer\n",
    "# nn.CrossEntropyLoss() computes softmax internally\n",
    "criterion = nn.CrossEntropyLoss()\n",
    "optimizer = torch.optim.Adam(model.parameters(), lr=0.1)"
   ]
  },
  {
   "cell_type": "markdown",
   "metadata": {},
   "source": [
    "# 4 этап - Обучение"
   ]
  },
  {
   "cell_type": "code",
   "execution_count": 25,
   "metadata": {
    "scrolled": false,
    "ExecuteTime": {
     "end_time": "2023-10-06T11:15:47.990757795Z",
     "start_time": "2023-10-06T11:14:49.691318218Z"
    }
   },
   "outputs": [
    {
     "name": "stdout",
     "output_type": "stream",
     "text": [
      "Epoch [1/5], Step [100/600], Loss: 1.0465\n",
      "Epoch [1/5], Step [200/600], Loss: 0.6034\n",
      "Epoch [1/5], Step [300/600], Loss: 1.2325\n",
      "Epoch [1/5], Step [400/600], Loss: 0.7964\n",
      "Epoch [1/5], Step [500/600], Loss: 0.9386\n",
      "Epoch [1/5], Step [600/600], Loss: 1.3352\n",
      "Epoch [2/5], Step [100/600], Loss: 0.6230\n",
      "Epoch [2/5], Step [200/600], Loss: 1.1684\n",
      "Epoch [2/5], Step [300/600], Loss: 1.2050\n",
      "Epoch [2/5], Step [400/600], Loss: 0.7395\n",
      "Epoch [2/5], Step [500/600], Loss: 0.4120\n",
      "Epoch [2/5], Step [600/600], Loss: 1.6627\n",
      "Epoch [3/5], Step [100/600], Loss: 0.4012\n",
      "Epoch [3/5], Step [200/600], Loss: 1.2042\n",
      "Epoch [3/5], Step [300/600], Loss: 0.6284\n",
      "Epoch [3/5], Step [400/600], Loss: 1.4594\n",
      "Epoch [3/5], Step [500/600], Loss: 0.6276\n",
      "Epoch [3/5], Step [600/600], Loss: 1.6082\n",
      "Epoch [4/5], Step [100/600], Loss: 1.0628\n",
      "Epoch [4/5], Step [200/600], Loss: 1.0114\n",
      "Epoch [4/5], Step [300/600], Loss: 0.9685\n",
      "Epoch [4/5], Step [400/600], Loss: 1.1903\n",
      "Epoch [4/5], Step [500/600], Loss: 1.7423\n",
      "Epoch [4/5], Step [600/600], Loss: 0.8102\n",
      "Epoch [5/5], Step [100/600], Loss: 0.4734\n",
      "Epoch [5/5], Step [200/600], Loss: 1.1154\n",
      "Epoch [5/5], Step [300/600], Loss: 0.5503\n",
      "Epoch [5/5], Step [400/600], Loss: 1.5723\n",
      "Epoch [5/5], Step [500/600], Loss: 0.2979\n",
      "Epoch [5/5], Step [600/600], Loss: 1.4962\n"
     ]
    }
   ],
   "source": [
    "# Train the model\n",
    "total_step = len(train_loader)\n",
    "for epoch in range(num_epochs):\n",
    "    for i, (images, labels) in enumerate(train_loader):\n",
    "        # Reshape images to (batch_size, input_size)\n",
    "        images = images.reshape(-1, input_size)\n",
    "        \n",
    "        # Forward pass\n",
    "        outputs = model(images)\n",
    "        loss = criterion(outputs, labels)\n",
    "        \n",
    "        # Backward and optimize\n",
    "        optimizer.zero_grad()\n",
    "        loss.backward()\n",
    "        optimizer.step()\n",
    "        \n",
    "        if (i+1) % 100 == 0:\n",
    "            print ('Epoch [{}/{}], Step [{}/{}], Loss: {:.4f}' \n",
    "                   .format(epoch+1, num_epochs, i+1, total_step, loss.item()))"
   ]
  },
  {
   "cell_type": "code",
   "execution_count": 26,
   "metadata": {
    "ExecuteTime": {
     "end_time": "2023-10-06T11:15:49.474273557Z",
     "start_time": "2023-10-06T11:15:47.982222474Z"
    }
   },
   "outputs": [
    {
     "name": "stdout",
     "output_type": "stream",
     "text": [
      "Accuracy of the model on the 10000 test images: 89.31999969482422 %\n"
     ]
    }
   ],
   "source": [
    "# Test the model\n",
    "# In test phase, we don't need to compute gradients (for memory efficiency)\n",
    "#with torch.no_grad():\n",
    "correct = 0\n",
    "total = 0\n",
    "for images, labels in test_loader:\n",
    "    images = images.reshape(-1, input_size)\n",
    "    outputs = model(images)\n",
    "    _, predicted = torch.max(outputs.data, 1)\n",
    "    total += labels.size(0)\n",
    "    correct += (predicted == labels).sum()\n",
    "\n",
    "print('Accuracy of the model on the 10000 test images: {} %'.format(100 * correct / total))\n",
    "\n",
    "# Save the model checkpoint\n",
    "torch.save(model.state_dict(), 'model.ckpt')"
   ]
  },
  {
   "cell_type": "code",
   "execution_count": 26,
   "metadata": {
    "ExecuteTime": {
     "end_time": "2023-10-06T11:15:49.513028695Z",
     "start_time": "2023-10-06T11:15:49.464169300Z"
    }
   },
   "outputs": [],
   "source": []
  }
 ],
 "metadata": {
  "kernelspec": {
   "display_name": "Python 3 (ipykernel)",
   "language": "python",
   "name": "python3"
  },
  "language_info": {
   "codemirror_mode": {
    "name": "ipython",
    "version": 3
   },
   "file_extension": ".py",
   "mimetype": "text/x-python",
   "name": "python",
   "nbconvert_exporter": "python",
   "pygments_lexer": "ipython3",
   "version": "3.10.11"
  }
 },
 "nbformat": 4,
 "nbformat_minor": 2
}
