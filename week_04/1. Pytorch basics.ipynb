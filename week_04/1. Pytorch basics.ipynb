{
 "cells": [
  {
   "cell_type": "markdown",
   "metadata": {},
   "source": [
    "https://github.com/yunjey/pytorch-tutorial/blob/master/tutorials/01-basics/pytorch_basics/main.py"
   ]
  },
  {
   "cell_type": "markdown",
   "metadata": {},
   "source": [
    "# Basic pytorch"
   ]
  },
  {
   "cell_type": "code",
   "execution_count": 3,
   "metadata": {
    "ExecuteTime": {
     "end_time": "2023-10-06T08:15:44.454915409Z",
     "start_time": "2023-10-06T08:15:43.520168190Z"
    }
   },
   "outputs": [],
   "source": [
    "import torch \n",
    "import torchvision\n",
    "import torch.nn as nn\n",
    "import numpy as np\n",
    "import torchvision.transforms as transforms\n",
    "\n",
    "\n",
    "# ================================================================== #\n",
    "#                         Table of Contents                          #\n",
    "# ================================================================== #\n",
    "\n",
    "# 1. Basic autograd example 1               (Line 25 to 39)\n",
    "# 2. Basic autograd example 2               (Line 46 to 83)\n",
    "# 3. Loading data from numpy                (Line 90 to 97)\n",
    "# 4. Input pipline                          (Line 104 to 129)\n",
    "# 5. Input pipline for custom dataset       (Line 136 to 156)\n",
    "# 6. Pretrained model                       (Line 163 to 176)\n",
    "# 7. Save and load model                    (Line 183 to 189) \n"
   ]
  },
  {
   "cell_type": "code",
   "execution_count": 4,
   "metadata": {
    "ExecuteTime": {
     "end_time": "2023-10-06T08:15:44.456531118Z",
     "start_time": "2023-10-06T08:15:43.903958529Z"
    }
   },
   "outputs": [
    {
     "name": "stdout",
     "output_type": "stream",
     "text": [
      "tensor(2.)\n",
      "tensor(1.)\n",
      "tensor(1.)\n"
     ]
    }
   ],
   "source": [
    "# ================================================================== #\n",
    "#                     1. Basic autograd example 1                    #\n",
    "# ================================================================== #\n",
    "\n",
    "# Create tensors.\n",
    "x = torch.tensor(1., requires_grad=True)\n",
    "w = torch.tensor(2., requires_grad=True)\n",
    "b = torch.tensor(3., requires_grad=True)\n",
    "\n",
    "# Build a computational graph.\n",
    "y = w * x + b    # y = 2 * x + 3\n",
    "\n",
    "# Compute gradients.\n",
    "y.backward()\n",
    "\n",
    "# Print out the gradients.\n",
    "print(x.grad)    # x.grad = 2 \n",
    "print(w.grad)    # w.grad = 1 \n",
    "print(b.grad)    # b.grad = 1 \n"
   ]
  },
  {
   "cell_type": "code",
   "execution_count": 5,
   "metadata": {
    "ExecuteTime": {
     "end_time": "2023-10-06T08:15:44.498979588Z",
     "start_time": "2023-10-06T08:15:43.904587415Z"
    }
   },
   "outputs": [
    {
     "name": "stdout",
     "output_type": "stream",
     "text": [
      "w:  Parameter containing:\n",
      "tensor([[-0.1342, -0.1649,  0.3521],\n",
      "        [ 0.3312,  0.2525,  0.0676]], requires_grad=True)\n",
      "b:  Parameter containing:\n",
      "tensor([ 0.0650, -0.3146], requires_grad=True)\n",
      "0 loss:  1.9331130981445312\n",
      "1 loss:  1.87247633934021\n",
      "2 loss:  1.8150007724761963\n",
      "3 loss:  1.7605139017105103\n",
      "4 loss:  1.7088534832000732\n",
      "5 loss:  1.6598657369613647\n",
      "6 loss:  1.6134058237075806\n",
      "7 loss:  1.5693362951278687\n",
      "8 loss:  1.527528166770935\n",
      "9 loss:  1.4878584146499634\n",
      "10 loss:  1.450211763381958\n",
      "11 loss:  1.41447913646698\n",
      "12 loss:  1.3805569410324097\n",
      "13 loss:  1.3483476638793945\n",
      "14 loss:  1.3177595138549805\n",
      "15 loss:  1.288704752922058\n",
      "16 loss:  1.2611016035079956\n",
      "17 loss:  1.2348718643188477\n",
      "18 loss:  1.20994234085083\n",
      "19 loss:  1.1862432956695557\n",
      "20 loss:  1.1637089252471924\n",
      "21 loss:  1.142277717590332\n",
      "22 loss:  1.1218903064727783\n",
      "23 loss:  1.1024916172027588\n",
      "24 loss:  1.0840290784835815\n",
      "25 loss:  1.066453456878662\n",
      "26 loss:  1.0497174263000488\n",
      "27 loss:  1.0337769985198975\n",
      "28 loss:  1.018589973449707\n",
      "29 loss:  1.0041172504425049\n",
      "30 loss:  0.9903209805488586\n",
      "31 loss:  0.9771658778190613\n",
      "32 loss:  0.9646185040473938\n",
      "33 loss:  0.9526470899581909\n",
      "34 loss:  0.9412218928337097\n",
      "35 loss:  0.9303145408630371\n",
      "36 loss:  0.9198981523513794\n",
      "37 loss:  0.9099475145339966\n",
      "38 loss:  0.9004384279251099\n",
      "39 loss:  0.8913485407829285\n",
      "40 loss:  0.8826563954353333\n",
      "41 loss:  0.874341607093811\n",
      "42 loss:  0.8663849830627441\n",
      "43 loss:  0.8587682843208313\n",
      "44 loss:  0.8514742851257324\n",
      "45 loss:  0.8444870710372925\n",
      "46 loss:  0.8377909660339355\n",
      "47 loss:  0.8313713073730469\n",
      "48 loss:  0.8252147436141968\n",
      "49 loss:  0.8193079233169556\n",
      "50 loss:  0.8136383891105652\n",
      "51 loss:  0.8081945180892944\n",
      "52 loss:  0.8029654622077942\n",
      "53 loss:  0.7979404330253601\n",
      "54 loss:  0.7931097745895386\n",
      "55 loss:  0.788463830947876\n",
      "56 loss:  0.7839938402175903\n",
      "57 loss:  0.7796911597251892\n",
      "58 loss:  0.7755481004714966\n",
      "59 loss:  0.7715569734573364\n",
      "60 loss:  0.7677103281021118\n",
      "61 loss:  0.764001727104187\n",
      "62 loss:  0.7604244947433472\n",
      "63 loss:  0.7569726705551147\n",
      "64 loss:  0.753640353679657\n",
      "65 loss:  0.7504221200942993\n",
      "66 loss:  0.7473126649856567\n",
      "67 loss:  0.7443071007728577\n",
      "68 loss:  0.7414007186889648\n",
      "69 loss:  0.7385891079902649\n",
      "70 loss:  0.7358678579330444\n",
      "71 loss:  0.7332333326339722\n",
      "72 loss:  0.7306814789772034\n",
      "73 loss:  0.7282086610794067\n",
      "74 loss:  0.7258116006851196\n",
      "75 loss:  0.7234867215156555\n",
      "76 loss:  0.7212313413619995\n",
      "77 loss:  0.7190423011779785\n",
      "78 loss:  0.7169168591499329\n",
      "79 loss:  0.7148524522781372\n",
      "80 loss:  0.7128463983535767\n",
      "81 loss:  0.710896372795105\n",
      "82 loss:  0.7090000510215759\n",
      "83 loss:  0.7071554660797119\n",
      "84 loss:  0.7053602933883667\n",
      "85 loss:  0.7036126852035522\n",
      "86 loss:  0.7019107937812805\n",
      "87 loss:  0.700252890586853\n",
      "88 loss:  0.6986371874809265\n",
      "89 loss:  0.6970621347427368\n",
      "90 loss:  0.695526123046875\n",
      "91 loss:  0.6940277814865112\n",
      "92 loss:  0.6925656199455261\n",
      "93 loss:  0.6911383867263794\n",
      "94 loss:  0.6897448897361755\n",
      "95 loss:  0.6883838176727295\n",
      "96 loss:  0.6870539784431458\n",
      "97 loss:  0.6857542991638184\n",
      "98 loss:  0.6844838261604309\n",
      "99 loss:  0.6832414865493774\n",
      "loss after 1 step optimization:  0.6820262670516968\n"
     ]
    }
   ],
   "source": [
    "# ================================================================== #\n",
    "#                    2. Basic autograd example 2                     #\n",
    "# ================================================================== #\n",
    "\n",
    "# Create tensors of shape (10, 3) and (10, 2).\n",
    "x = torch.randn(10, 3)\n",
    "y = torch.randn(10, 2)\n",
    "\n",
    "# Build a fully connected layer.\n",
    "linear = nn.Linear(3, 2)\n",
    "print ('w: ', linear.weight)\n",
    "print ('b: ', linear.bias)\n",
    "\n",
    "# Build loss function and optimizer.\n",
    "criterion = nn.MSELoss()\n",
    "optimizer = torch.optim.SGD(linear.parameters(), lr=0.01)\n",
    "\n",
    "for i in range(100):\n",
    "    # Forward pass.\n",
    "    pred = linear(x)\n",
    "\n",
    "    # Compute loss.\n",
    "    loss = criterion(pred, y)\n",
    "    print(i, 'loss: ', loss.item())\n",
    "\n",
    "    # Backward pass.\n",
    "    loss.backward()\n",
    "\n",
    "    # Print out the gradients.\n",
    "    #print ('dL/dw: ', linear.weight.grad) \n",
    "    #print ('dL/db: ', linear.bias.grad)\n",
    "\n",
    "    # 1-step gradient descent.\n",
    "    optimizer.step()\n",
    "    optimizer.zero_grad()\n",
    "\n",
    "# You can also perform gradient descent at the low level.\n",
    "# linear.weight.data.sub_(0.01 * linear.weight.grad.data)\n",
    "# linear.bias.data.sub_(0.01 * linear.bias.grad.data)\n",
    "\n",
    "# Print out the loss after 1-step gradient descent.\n",
    "pred = linear(x)\n",
    "loss = criterion(pred, y)\n",
    "print('loss after 1 step optimization: ', loss.item())"
   ]
  },
  {
   "cell_type": "code",
   "execution_count": 6,
   "metadata": {
    "ExecuteTime": {
     "end_time": "2023-10-06T08:15:44.500873415Z",
     "start_time": "2023-10-06T08:15:43.991072835Z"
    }
   },
   "outputs": [],
   "source": [
    "# ================================================================== #\n",
    "#                     3. Loading data from numpy                     #\n",
    "# ================================================================== #\n",
    "\n",
    "# Create a numpy array.\n",
    "x = np.array([[1, 2], [3, 4]])\n",
    "\n",
    "# Convert the numpy array to a torch tensor.\n",
    "y = torch.from_numpy(x)\n",
    "#y = torch.tensor(x)\n",
    "\n",
    "# Convert the torch tensor to a numpy array.\n",
    "z = y.numpy()"
   ]
  },
  {
   "cell_type": "code",
   "execution_count": 7,
   "metadata": {
    "ExecuteTime": {
     "end_time": "2023-10-06T08:15:44.502841448Z",
     "start_time": "2023-10-06T08:15:44.027534048Z"
    }
   },
   "outputs": [
    {
     "data": {
      "text/plain": "False"
     },
     "execution_count": 7,
     "metadata": {},
     "output_type": "execute_result"
    }
   ],
   "source": [
    "torch.cuda.is_available()"
   ]
  },
  {
   "cell_type": "code",
   "execution_count": 8,
   "metadata": {
    "ExecuteTime": {
     "end_time": "2023-10-06T08:15:48.204931548Z",
     "start_time": "2023-10-06T08:15:44.028299736Z"
    }
   },
   "outputs": [
    {
     "name": "stdout",
     "output_type": "stream",
     "text": [
      "48 µs ± 16.8 µs per loop (mean ± std. dev. of 7 runs, 10,000 loops each)\n"
     ]
    }
   ],
   "source": [
    "x = np.random.randn(100000)\n",
    "y = np.random.randn(100000)\n",
    "%timeit x.dot(y)"
   ]
  },
  {
   "cell_type": "code",
   "execution_count": 9,
   "metadata": {
    "ExecuteTime": {
     "end_time": "2023-10-06T08:15:51.530243782Z",
     "start_time": "2023-10-06T08:15:48.197191463Z"
    }
   },
   "outputs": [
    {
     "name": "stdout",
     "output_type": "stream",
     "text": [
      "39.7 µs ± 2.64 µs per loop (mean ± std. dev. of 7 runs, 10,000 loops each)\n"
     ]
    }
   ],
   "source": [
    "x = torch.tensor(np.random.randn(100000)).to('cpu')\n",
    "y = torch.tensor(np.random.randn(100000)).to('cpu')\n",
    "%timeit x.dot(y)"
   ]
  },
  {
   "cell_type": "code",
   "execution_count": 10,
   "metadata": {
    "ExecuteTime": {
     "end_time": "2023-10-06T08:15:51.784025822Z",
     "start_time": "2023-10-06T08:15:51.526685665Z"
    }
   },
   "outputs": [
    {
     "ename": "AssertionError",
     "evalue": "Torch not compiled with CUDA enabled",
     "output_type": "error",
     "traceback": [
      "\u001B[0;31m---------------------------------------------------------------------------\u001B[0m",
      "\u001B[0;31mAssertionError\u001B[0m                            Traceback (most recent call last)",
      "Cell \u001B[0;32mIn[10], line 1\u001B[0m\n\u001B[0;32m----> 1\u001B[0m x \u001B[38;5;241m=\u001B[39m \u001B[43mtorch\u001B[49m\u001B[38;5;241;43m.\u001B[39;49m\u001B[43mtensor\u001B[49m\u001B[43m(\u001B[49m\u001B[43mnp\u001B[49m\u001B[38;5;241;43m.\u001B[39;49m\u001B[43mrandom\u001B[49m\u001B[38;5;241;43m.\u001B[39;49m\u001B[43mrandn\u001B[49m\u001B[43m(\u001B[49m\u001B[38;5;241;43m100000\u001B[39;49m\u001B[43m)\u001B[49m\u001B[43m)\u001B[49m\u001B[38;5;241;43m.\u001B[39;49m\u001B[43mto\u001B[49m\u001B[43m(\u001B[49m\u001B[38;5;124;43m'\u001B[39;49m\u001B[38;5;124;43mcuda\u001B[39;49m\u001B[38;5;124;43m'\u001B[39;49m\u001B[43m)\u001B[49m\n\u001B[1;32m      2\u001B[0m y \u001B[38;5;241m=\u001B[39m torch\u001B[38;5;241m.\u001B[39mtensor(np\u001B[38;5;241m.\u001B[39mrandom\u001B[38;5;241m.\u001B[39mrandn(\u001B[38;5;241m100000\u001B[39m))\u001B[38;5;241m.\u001B[39mcuda()\n\u001B[1;32m      3\u001B[0m get_ipython()\u001B[38;5;241m.\u001B[39mrun_line_magic(\u001B[38;5;124m'\u001B[39m\u001B[38;5;124mtimeit\u001B[39m\u001B[38;5;124m'\u001B[39m, \u001B[38;5;124m'\u001B[39m\u001B[38;5;124mx.dot(y)\u001B[39m\u001B[38;5;124m'\u001B[39m)\n",
      "File \u001B[0;32m~/Tools/Anaconda3/envs/nnenv/lib/python3.8/site-packages/torch/cuda/__init__.py:239\u001B[0m, in \u001B[0;36m_lazy_init\u001B[0;34m()\u001B[0m\n\u001B[1;32m    235\u001B[0m     \u001B[38;5;28;01mraise\u001B[39;00m \u001B[38;5;167;01mRuntimeError\u001B[39;00m(\n\u001B[1;32m    236\u001B[0m         \u001B[38;5;124m\"\u001B[39m\u001B[38;5;124mCannot re-initialize CUDA in forked subprocess. To use CUDA with \u001B[39m\u001B[38;5;124m\"\u001B[39m\n\u001B[1;32m    237\u001B[0m         \u001B[38;5;124m\"\u001B[39m\u001B[38;5;124mmultiprocessing, you must use the \u001B[39m\u001B[38;5;124m'\u001B[39m\u001B[38;5;124mspawn\u001B[39m\u001B[38;5;124m'\u001B[39m\u001B[38;5;124m start method\u001B[39m\u001B[38;5;124m\"\u001B[39m)\n\u001B[1;32m    238\u001B[0m \u001B[38;5;28;01mif\u001B[39;00m \u001B[38;5;129;01mnot\u001B[39;00m \u001B[38;5;28mhasattr\u001B[39m(torch\u001B[38;5;241m.\u001B[39m_C, \u001B[38;5;124m'\u001B[39m\u001B[38;5;124m_cuda_getDeviceCount\u001B[39m\u001B[38;5;124m'\u001B[39m):\n\u001B[0;32m--> 239\u001B[0m     \u001B[38;5;28;01mraise\u001B[39;00m \u001B[38;5;167;01mAssertionError\u001B[39;00m(\u001B[38;5;124m\"\u001B[39m\u001B[38;5;124mTorch not compiled with CUDA enabled\u001B[39m\u001B[38;5;124m\"\u001B[39m)\n\u001B[1;32m    240\u001B[0m \u001B[38;5;28;01mif\u001B[39;00m _cudart \u001B[38;5;129;01mis\u001B[39;00m \u001B[38;5;28;01mNone\u001B[39;00m:\n\u001B[1;32m    241\u001B[0m     \u001B[38;5;28;01mraise\u001B[39;00m \u001B[38;5;167;01mAssertionError\u001B[39;00m(\n\u001B[1;32m    242\u001B[0m         \u001B[38;5;124m\"\u001B[39m\u001B[38;5;124mlibcudart functions unavailable. It looks like you have a broken build?\u001B[39m\u001B[38;5;124m\"\u001B[39m)\n",
      "\u001B[0;31mAssertionError\u001B[0m: Torch not compiled with CUDA enabled"
     ]
    }
   ],
   "source": [
    "x = torch.tensor(np.random.randn(100000)).to('cuda')\n",
    "y = torch.tensor(np.random.randn(100000)).cuda()\n",
    "%timeit x.dot(y)"
   ]
  },
  {
   "cell_type": "code",
   "execution_count": null,
   "metadata": {
    "ExecuteTime": {
     "start_time": "2023-10-06T08:15:51.735667633Z"
    }
   },
   "outputs": [],
   "source": []
  },
  {
   "cell_type": "code",
   "execution_count": null,
   "metadata": {
    "ExecuteTime": {
     "start_time": "2023-10-06T08:15:51.736113891Z"
    }
   },
   "outputs": [],
   "source": [
    "# ================================================================== #\n",
    "#                         4. Input pipeline                           #\n",
    "# ================================================================== #\n",
    "\n",
    "# Download and construct CIFAR-10 dataset.\n",
    "train_dataset = torchvision.datasets.CIFAR10(root='../../data/',\n",
    "                                             train=True, \n",
    "                                             transform=transforms.ToTensor(),\n",
    "                                             download=True)\n",
    "\n",
    "# Fetch one data pair (read data from disk).\n",
    "image, label = train_dataset[0]\n",
    "print (image.size())\n",
    "print (label)\n",
    "\n",
    "# Data loader (this provides queues and threads in a very simple way).\n",
    "train_loader = torch.utils.data.DataLoader(dataset=train_dataset,\n",
    "                                           batch_size=64, \n",
    "                                           shuffle=True)\n",
    "\n",
    "# When iteration starts, queue and thread start to load data from files.\n",
    "data_iter = iter(train_loader)\n",
    "\n",
    "# Mini-batch images and labels.\n",
    "images, labels = data_iter.next()\n",
    "\n",
    "# Actual usage of the data loader is as below.\n",
    "for images, labels in train_loader:\n",
    "    # Training code should be written here.\n",
    "    pass\n"
   ]
  },
  {
   "cell_type": "code",
   "execution_count": null,
   "metadata": {
    "ExecuteTime": {
     "start_time": "2023-10-06T08:15:51.736471269Z"
    }
   },
   "outputs": [],
   "source": [
    "x = torch.randn(100, 5)\n",
    "y = torch.randn(100, 1)\n",
    "dataset = torch.utils.data.TensorDataset(x, y)\n",
    "loader = torch.utils.data.DataLoader(dataset=dataset,\n",
    "                                           batch_size=10, \n",
    "                                           shuffle=False)"
   ]
  },
  {
   "cell_type": "code",
   "execution_count": null,
   "metadata": {
    "ExecuteTime": {
     "start_time": "2023-10-06T08:15:51.737259051Z"
    }
   },
   "outputs": [],
   "source": [
    "for x_batch, y_batch in loader:\n",
    "    print(x_batch)\n",
    "    print(y_batch)\n",
    "    break"
   ]
  },
  {
   "cell_type": "code",
   "execution_count": null,
   "metadata": {
    "ExecuteTime": {
     "start_time": "2023-10-06T08:15:51.779521011Z"
    }
   },
   "outputs": [],
   "source": [
    "dataset[0], x[0], y[0]"
   ]
  },
  {
   "cell_type": "code",
   "execution_count": null,
   "metadata": {
    "ExecuteTime": {
     "start_time": "2023-10-06T08:15:51.779990060Z"
    }
   },
   "outputs": [],
   "source": [
    "# ================================================================== #\n",
    "#                5. Input pipeline for custom dataset                 #\n",
    "# ================================================================== #\n",
    "import os\n",
    "# You should build your custom dataset as below.\n",
    "class CustomDataset(torch.utils.data.Dataset):\n",
    "    def __init__(self, folder_name):\n",
    "        # TODO\n",
    "        # 1. Initialize file paths or a list of file names. \n",
    "        self.folder_name = folder_name\n",
    "        self.files = os.listdir(self.folder_name)\n",
    "        \n",
    "    def __getitem__(self, index):\n",
    "        # TODO\n",
    "        # 1. Read one data from file (e.g. using numpy.fromfile, PIL.Image.open).\n",
    "        # 2. Preprocess the data (e.g. torchvision.Transform).\n",
    "        # 3. Return a data pair (e.g. image and label).\n",
    "        return self.files[index]\n",
    "    \n",
    "    def __len__(self):\n",
    "        # You should change 0 to the total size of your dataset.\n",
    "        return len(self.files)\n",
    "\n",
    "# You can then use the prebuilt data loader. \n",
    "custom_dataset = CustomDataset(folder_name='.')\n",
    "train_loader = torch.utils.data.DataLoader(dataset=custom_dataset,\n",
    "                                           batch_size=4, \n",
    "                                           shuffle=True)\n"
   ]
  },
  {
   "cell_type": "code",
   "execution_count": null,
   "metadata": {
    "ExecuteTime": {
     "start_time": "2023-10-06T08:15:51.780374777Z"
    }
   },
   "outputs": [],
   "source": [
    "custom_dataset[1]"
   ]
  },
  {
   "cell_type": "code",
   "execution_count": null,
   "metadata": {
    "ExecuteTime": {
     "start_time": "2023-10-06T08:15:51.780734563Z"
    }
   },
   "outputs": [],
   "source": [
    "for names in train_loader:\n",
    "    print(names)\n",
    "    break"
   ]
  },
  {
   "cell_type": "code",
   "execution_count": null,
   "metadata": {
    "ExecuteTime": {
     "start_time": "2023-10-06T08:15:51.781050859Z"
    }
   },
   "outputs": [],
   "source": [
    "a = [1,2,3]\n",
    "len(a), a.__len__()"
   ]
  },
  {
   "cell_type": "code",
   "execution_count": null,
   "metadata": {
    "ExecuteTime": {
     "start_time": "2023-10-06T08:15:51.781364326Z"
    }
   },
   "outputs": [],
   "source": [
    "dir(a)\n",
    "a[1], a.__getitem__(1)"
   ]
  },
  {
   "cell_type": "code",
   "execution_count": null,
   "metadata": {
    "ExecuteTime": {
     "start_time": "2023-10-06T08:15:51.781639530Z"
    }
   },
   "outputs": [],
   "source": []
  },
  {
   "cell_type": "code",
   "execution_count": null,
   "metadata": {
    "ExecuteTime": {
     "start_time": "2023-10-06T08:15:51.781916092Z"
    }
   },
   "outputs": [],
   "source": [
    "# ================================================================== #\n",
    "#                        6. Pretrained model                         #\n",
    "# ================================================================== #\n",
    "\n",
    "# Download and load the pretrained ResNet-18.\n",
    "resnet = torchvision.models.resnet18(pretrained=True)\n",
    "\n",
    "# If you want to finetune only the top layer of the model, set as below.\n",
    "for param in resnet.parameters():\n",
    "    param.requires_grad = False\n",
    "\n",
    "# Replace the top layer for finetuning.\n",
    "resnet.fc = nn.Linear(resnet.fc.in_features, 100)  # 100 is an example.\n",
    "\n",
    "# Forward pass.\n",
    "images = torch.randn(64, 3, 224, 224)\n",
    "outputs = resnet(images)\n",
    "print (outputs.size())     # (64, 100)"
   ]
  },
  {
   "cell_type": "code",
   "execution_count": null,
   "metadata": {
    "ExecuteTime": {
     "start_time": "2023-10-06T08:15:51.782156254Z"
    }
   },
   "outputs": [],
   "source": [
    "# ================================================================== #\n",
    "#                      7. Save and load the model                    #\n",
    "# ================================================================== #\n",
    "\n",
    "# Save and load the entire model.\n",
    "torch.save(resnet, 'model.ckpt')\n",
    "model = torch.load('model.ckpt')\n",
    "\n",
    "# Save and load only the model parameters (recommended).\n",
    "torch.save(resnet.state_dict(), 'params.ckpt')\n",
    "resnet.load_state_dict(torch.load('params.ckpt'))"
   ]
  },
  {
   "cell_type": "code",
   "execution_count": null,
   "metadata": {
    "ExecuteTime": {
     "start_time": "2023-10-06T08:15:51.807812119Z"
    }
   },
   "outputs": [],
   "source": []
  },
  {
   "cell_type": "code",
   "execution_count": null,
   "metadata": {
    "ExecuteTime": {
     "start_time": "2023-10-06T08:15:51.808118877Z"
    }
   },
   "outputs": [],
   "source": []
  },
  {
   "cell_type": "code",
   "execution_count": null,
   "metadata": {
    "ExecuteTime": {
     "start_time": "2023-10-06T08:15:51.808281028Z"
    }
   },
   "outputs": [],
   "source": []
  },
  {
   "cell_type": "code",
   "execution_count": null,
   "metadata": {
    "ExecuteTime": {
     "start_time": "2023-10-06T08:15:51.808427746Z"
    }
   },
   "outputs": [],
   "source": []
  },
  {
   "cell_type": "code",
   "execution_count": null,
   "metadata": {
    "ExecuteTime": {
     "start_time": "2023-10-06T08:15:51.808622943Z"
    }
   },
   "outputs": [],
   "source": []
  },
  {
   "cell_type": "code",
   "execution_count": null,
   "metadata": {
    "ExecuteTime": {
     "start_time": "2023-10-06T08:15:51.808817944Z"
    }
   },
   "outputs": [],
   "source": []
  }
 ],
 "metadata": {
  "kernelspec": {
   "display_name": "Python 3 (ipykernel)",
   "language": "python",
   "name": "python3"
  },
  "language_info": {
   "codemirror_mode": {
    "name": "ipython",
    "version": 3
   },
   "file_extension": ".py",
   "mimetype": "text/x-python",
   "name": "python",
   "nbconvert_exporter": "python",
   "pygments_lexer": "ipython3",
   "version": "3.10.11"
  }
 },
 "nbformat": 4,
 "nbformat_minor": 2
}
